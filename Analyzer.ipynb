{
 "cells": [
  {
   "cell_type": "code",
   "execution_count": null,
   "metadata": {},
   "outputs": [],
   "source": [
    "import pandas as pd\n",
    "import matplotlib.pyplot as plt"
   ]
  },
  {
   "cell_type": "markdown",
   "metadata": {},
   "source": [
    "## Raw text exported by whatsapp can be converted into a well formatted .csv file using this service: \n",
    " https://chatvisualizer.com/"
   ]
  },
  {
   "cell_type": "code",
   "execution_count": null,
   "metadata": {},
   "outputs": [],
   "source": [
    "\n",
    "CSV_FILE =''\n",
    "\n",
    "df = pd.read_csv(CSV_FILE)"
   ]
  },
  {
   "cell_type": "code",
   "execution_count": null,
   "metadata": {},
   "outputs": [],
   "source": [
    "df"
   ]
  },
  {
   "cell_type": "markdown",
   "metadata": {},
   "source": [
    "# Message Type"
   ]
  },
  {
   "cell_type": "code",
   "execution_count": null,
   "metadata": {},
   "outputs": [],
   "source": [
    "plt.title(\"Message Type\")\n",
    "plt.hist(df[\"type\"])\n"
   ]
  },
  {
   "cell_type": "code",
   "execution_count": null,
   "metadata": {},
   "outputs": [],
   "source": [
    "total = df['type'].count()\n",
    "media = df[\"type\"].where(df[\"type\"] == 'media').count()\n",
    "text = df[\"type\"].where(df[\"type\"] == 'text').count()\n",
    "print('Text %: ',text*100/total)\n",
    "print('Media %: ',media*100/total)"
   ]
  },
  {
   "cell_type": "code",
   "execution_count": null,
   "metadata": {},
   "outputs": [],
   "source": [
    "media = df.where(df['type'] == 'media')['member'].value_counts()\n",
    "plt.figure(figsize=(25,3))\n",
    "plt.title('Number of Media (Sticker, Photo, Video )')\n",
    "plt.xticks(rotation='vertical')\n",
    "plt.bar(x=media.index,height=media.values)"
   ]
  },
  {
   "cell_type": "markdown",
   "metadata": {},
   "source": [
    "# Deleted Messages"
   ]
  },
  {
   "cell_type": "code",
   "execution_count": null,
   "metadata": {
    "scrolled": true
   },
   "outputs": [],
   "source": [
    "deleted = df.where(df['content'] == 'This message was deleted')['member'].value_counts()\n",
    "print('Top Deleters')\n",
    "deleted"
   ]
  },
  {
   "cell_type": "code",
   "execution_count": null,
   "metadata": {},
   "outputs": [],
   "source": [
    "plt.figure(figsize=(20,3))\n",
    "plt.title('Deleted Messages')\n",
    "plt.xticks(rotation='vertical')\n",
    "plt.bar(x=deleted.index,height=deleted.values)\n"
   ]
  },
  {
   "cell_type": "markdown",
   "metadata": {},
   "source": [
    "# Most Messages"
   ]
  },
  {
   "cell_type": "code",
   "execution_count": null,
   "metadata": {},
   "outputs": [],
   "source": [
    "t = df['member'].value_counts()"
   ]
  },
  {
   "cell_type": "code",
   "execution_count": null,
   "metadata": {},
   "outputs": [],
   "source": [
    "plt.figure(figsize=(30,3))\n",
    "plt.title('Number of messages by count')\n",
    "plt.xticks(rotation='vertical')\n",
    "plt.bar(x=t.index,height=t.values)\n"
   ]
  },
  {
   "cell_type": "code",
   "execution_count": null,
   "metadata": {},
   "outputs": [],
   "source": [
    "print('Most messages by count')\n",
    "print(t)"
   ]
  },
  {
   "cell_type": "code",
   "execution_count": null,
   "metadata": {},
   "outputs": [],
   "source": [
    "lettercount = df.groupby('member').sum()['lettercount'].sort_values(ascending = False)\n",
    "total_letters = df['lettercount'].sum()\n",
    "percentage_volume = lettercount*100/total_letters\n",
    "plt.figure(figsize=(20,3))\n",
    "plt.title('Chat Volume(Letter Count) in %')\n",
    "plt.xticks(rotation='vertical')\n",
    "plt.bar(x=percentage_volume.index,height=percentage_volume.values)\n",
    "print('Most messages by chat volume')\n",
    "percentage_volume"
   ]
  },
  {
   "cell_type": "markdown",
   "metadata": {},
   "source": [
    "# Timeline"
   ]
  },
  {
   "cell_type": "code",
   "execution_count": null,
   "metadata": {},
   "outputs": [],
   "source": [
    "df['days'] = df['datetime'].str.slice(stop = 11)\n",
    "days_group = df.groupby('days')\n",
    "order = days_group['timestamp'].mean().sort_values().index\n",
    "counts = days_group['timestamp'].count()\n",
    "timeline = counts.reindex(order)\n",
    "plt.figure(figsize=(20,3))\n",
    "plt.title('Timeline')\n",
    "plt.xticks(rotation='vertical')\n",
    "plt.plot(timeline.index,timeline.values)\n"
   ]
  },
  {
   "cell_type": "code",
   "execution_count": null,
   "metadata": {},
   "outputs": [],
   "source": [
    "hours = df['datetime'].str.slice(start= 11,stop = 13).value_counts(sort = False).sort_index()\n",
    "plt.figure(figsize=(20,3))\n",
    "plt.title('Active Hours')\n",
    "plt.xticks(rotation='vertical')\n",
    "plt.plot(hours.index,hours.values)"
   ]
  },
  {
   "cell_type": "markdown",
   "metadata": {},
   "source": [
    "# Message Analytics\n"
   ]
  },
  {
   "cell_type": "code",
   "execution_count": null,
   "metadata": {},
   "outputs": [],
   "source": [
    "df2 = df.sort_values('lettercount',ascending=False).head(100)['member'].value_counts()\n",
    "print(df2)"
   ]
  },
  {
   "cell_type": "code",
   "execution_count": null,
   "metadata": {},
   "outputs": [],
   "source": [
    "word = 'ayin'\n",
    "\n",
    "df_word = df.where(df['content'].str.lower().str.contains(word))['member'].dropna().value_counts()\n",
    "plt.figure(figsize=(20,3))\n",
    "plt.title(f'Used the word \"{word}\" count')\n",
    "plt.xticks(rotation='vertical')\n",
    "plt.bar(x=df_word.index,height=df_word.values)\n",
    "print(f'Used the word \"{word}\" count')\n",
    "df_word"
   ]
  },
  {
   "cell_type": "markdown",
   "metadata": {},
   "source": [
    "# Emoji"
   ]
  },
  {
   "cell_type": "code",
   "execution_count": null,
   "metadata": {},
   "outputs": [],
   "source": [
    "import emoji as em"
   ]
  },
  {
   "cell_type": "code",
   "execution_count": null,
   "metadata": {
    "scrolled": true
   },
   "outputs": [],
   "source": [
    "st = ''\n",
    "li = df['content'].dropna()\n",
    "for txt in li:\n",
    "    st+=txt\n",
    "s = 0\n",
    "ser = pd.Series(list(st)).value_counts()\n",
    "print('Favourite Emojis')\n",
    "for l,n in zip(ser.index,ser.values):\n",
    "    if l in em.UNICODE_EMOJI_ENGLISH:\n",
    "        print(l,n)\n",
    "        s+=n\n",
    "print(s)\n",
    "\n",
    "        "
   ]
  },
  {
   "cell_type": "code",
   "execution_count": null,
   "metadata": {},
   "outputs": [],
   "source": [
    "emo= df[['content','member']].dropna()\n",
    "emo['em_count'] = emo['content'].map(em.emoji_count)\n",
    "grp = emo.groupby('member')['em_count'].sum().sort_values(ascending=False)\n",
    "plt.figure(figsize=(20,3))\n",
    "plt.title(f'Emoji Usage')\n",
    "plt.xticks(rotation='vertical')\n",
    "plt.bar(x=grp.index,height=grp.values)\n",
    "print(f'Emoji Usage')\n",
    "grp"
   ]
  },
  {
   "cell_type": "code",
   "execution_count": null,
   "metadata": {},
   "outputs": [],
   "source": [
    "em_df = df[['member','content']].dropna()\n",
    "em_df['em_list'] = em_df['content'].map(em.emoji_lis)\n"
   ]
  },
  {
   "cell_type": "code",
   "execution_count": null,
   "metadata": {},
   "outputs": [],
   "source": [
    "for person , person_em in em_df.groupby('member')['em_list'].sum().iteritems():\n",
    "    person_em = pd.DataFrame(person_em)\n",
    "    try:\n",
    "        em_string = ' '.join(person_em['emoji'].value_counts().head(10).index)\n",
    "        print(f'{person}  : {em_string}')\n",
    "    except:\n",
    "        print(f'{person}  : No emojis to Show 😅')"
   ]
  },
  {
   "cell_type": "code",
   "execution_count": null,
   "metadata": {},
   "outputs": [],
   "source": []
  }
 ],
 "metadata": {
  "kernelspec": {
   "display_name": "Python 3",
   "language": "python",
   "name": "python3"
  },
  "language_info": {
   "codemirror_mode": {
    "name": "ipython",
    "version": 3
   },
   "file_extension": ".py",
   "mimetype": "text/x-python",
   "name": "python",
   "nbconvert_exporter": "python",
   "pygments_lexer": "ipython3",
   "version": "3.8.6rc1"
  },
  "toc-autonumbering": false,
  "toc-showcode": false,
  "toc-showmarkdowntxt": false
 },
 "nbformat": 4,
 "nbformat_minor": 4
}
